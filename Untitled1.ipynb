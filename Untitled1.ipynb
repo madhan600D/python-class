{
 "cells": [
  {
   "cell_type": "code",
   "execution_count": 1,
   "id": "68adb613",
   "metadata": {},
   "outputs": [
    {
     "name": "stdout",
     "output_type": "stream",
     "text": [
      "py@hon\n"
     ]
    }
   ],
   "source": [
    "a=\"python\"\n",
    "print(a.replace(\"t\",\"@\"))"
   ]
  },
  {
   "cell_type": "code",
   "execution_count": 2,
   "id": "d2ab7d2c",
   "metadata": {},
   "outputs": [
    {
     "name": "stdout",
     "output_type": "stream",
     "text": [
      "['s', 'chin Tendulk', 'r']\n"
     ]
    }
   ],
   "source": [
    "#split\n",
    "a=\"sachin Tendulkar\"\n",
    "print(a.split(\"a\"))"
   ]
  },
  {
   "cell_type": "code",
   "execution_count": 5,
   "id": "37617ca0",
   "metadata": {},
   "outputs": [
    {
     "name": "stdout",
     "output_type": "stream",
     "text": [
      "True\n",
      "False\n",
      "True\n",
      "False\n"
     ]
    }
   ],
   "source": [
    "a = \"Demo\"\n",
    "print(a.startswith(\"D\"))\n",
    "print(a.startswith(\"A\"))\n",
    "print(a.endswith(\"o\"))\n",
    "print(a.endswith(\"K\"))"
   ]
  },
  {
   "cell_type": "code",
   "execution_count": 8,
   "id": "241425be",
   "metadata": {},
   "outputs": [
    {
     "name": "stdout",
     "output_type": "stream",
     "text": [
      "<class 'int'>\n",
      "False\n",
      "0x7b\n",
      "0o173\n"
     ]
    }
   ],
   "source": [
    "a = 123\n",
    "print(type(a))\n",
    "print(isinstance(a,float))\n",
    "print(hex(a))\n",
    "print(oct(a))"
   ]
  },
  {
   "cell_type": "code",
   "execution_count": 10,
   "id": "919f535c",
   "metadata": {},
   "outputs": [
    {
     "name": "stdout",
     "output_type": "stream",
     "text": [
      "enter a number123\n"
     ]
    }
   ],
   "source": [
    "a=input(\"enter a number\")\n",
    "a=(type(a))"
   ]
  }
 ],
 "metadata": {
  "kernelspec": {
   "display_name": "Python 3 (ipykernel)",
   "language": "python",
   "name": "python3"
  },
  "language_info": {
   "codemirror_mode": {
    "name": "ipython",
    "version": 3
   },
   "file_extension": ".py",
   "mimetype": "text/x-python",
   "name": "python",
   "nbconvert_exporter": "python",
   "pygments_lexer": "ipython3",
   "version": "3.9.13"
  }
 },
 "nbformat": 4,
 "nbformat_minor": 5
}
