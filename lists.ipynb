{
 "cells": [
  {
   "cell_type": "code",
   "execution_count": 3,
   "id": "2d6d44cf",
   "metadata": {},
   "outputs": [
    {
     "name": "stdout",
     "output_type": "stream",
     "text": [
      "<class 'list'>\n"
     ]
    }
   ],
   "source": [
    "a=[\"madhan\",\"21\"]\n",
    "print(type(a))"
   ]
  },
  {
   "cell_type": "code",
   "execution_count": 7,
   "id": "4aa0ba8c",
   "metadata": {},
   "outputs": [
    {
     "name": "stdout",
     "output_type": "stream",
     "text": [
      "['madhan']\n"
     ]
    }
   ],
   "source": [
    "a=[\"madhan\"]\n",
    "print(sorted(a))"
   ]
  },
  {
   "cell_type": "code",
   "execution_count": 12,
   "id": "7576add0",
   "metadata": {},
   "outputs": [
    {
     "name": "stdout",
     "output_type": "stream",
     "text": [
      "1\n"
     ]
    }
   ],
   "source": [
    "a=[\"one\",\"two\",\"three\"]\n",
    "print(a.count(\"one\"))"
   ]
  },
  {
   "cell_type": "code",
   "execution_count": 14,
   "id": "8a98315c",
   "metadata": {},
   "outputs": [
    {
     "name": "stdout",
     "output_type": "stream",
     "text": [
      "['one', 'two', 'three'] ['four']\n"
     ]
    }
   ],
   "source": [
    "a=[\"one\",\"two\",\"three\"]\n",
    "b=[\"four\"]\n",
    "print(a,b)"
   ]
  },
  {
   "cell_type": "code",
   "execution_count": 15,
   "id": "a8aef598",
   "metadata": {},
   "outputs": [
    {
     "ename": "SyntaxError",
     "evalue": "invalid syntax (239884750.py, line 3)",
     "output_type": "error",
     "traceback": [
      "\u001b[1;36m  File \u001b[1;32m\"C:\\Users\\Magimadi\\AppData\\Local\\Temp\\ipykernel_12392\\239884750.py\"\u001b[1;36m, line \u001b[1;32m3\u001b[0m\n\u001b[1;33m    c=\u001b[0m\n\u001b[1;37m      ^\u001b[0m\n\u001b[1;31mSyntaxError\u001b[0m\u001b[1;31m:\u001b[0m invalid syntax\n"
     ]
    }
   ],
   "source": [
    "a=[\"one\",\"two\",\"three\"]\n",
    "b=[\"four\"]\n",
    "c="
   ]
  },
  {
   "cell_type": "code",
   "execution_count": 18,
   "id": "78797baa",
   "metadata": {},
   "outputs": [
    {
     "name": "stdout",
     "output_type": "stream",
     "text": [
      "['s', 'chin tendulk', 'r']\n"
     ]
    }
   ],
   "source": [
    "a=\"sachin tendulkar\"\n",
    "print(a.split(\"a\"))"
   ]
  },
  {
   "cell_type": "code",
   "execution_count": 22,
   "id": "35135c70",
   "metadata": {},
   "outputs": [
    {
     "name": "stdout",
     "output_type": "stream",
     "text": [
      "['one', 'two', 'three', 'welcome']\n"
     ]
    }
   ],
   "source": [
    "a=[\"one\",\"two\",\"three\"]\n",
    "(a.append(\"welcome\"))\n",
    "print(a)"
   ]
  },
  {
   "cell_type": "code",
   "execution_count": 28,
   "id": "07104b4b",
   "metadata": {},
   "outputs": [
    {
     "ename": "SyntaxError",
     "evalue": "invalid syntax (550266833.py, line 3)",
     "output_type": "error",
     "traceback": [
      "\u001b[1;36m  File \u001b[1;32m\"C:\\Users\\Magimadi\\AppData\\Local\\Temp\\ipykernel_12392\\550266833.py\"\u001b[1;36m, line \u001b[1;32m3\u001b[0m\n\u001b[1;33m    print(a)\u001b[0m\n\u001b[1;37m    ^\u001b[0m\n\u001b[1;31mSyntaxError\u001b[0m\u001b[1;31m:\u001b[0m invalid syntax\n"
     ]
    }
   ],
   "source": [
    "a=[\"one\",\"two\",\"three\"]\n",
    "(a.remove(\"two\")\n",
    "print(a)"
   ]
  },
  {
   "cell_type": "code",
   "execution_count": 30,
   "id": "31c26f24",
   "metadata": {},
   "outputs": [],
   "source": [
    "a=[\"one\",\"two\",\"three\"]\n"
   ]
  },
  {
   "cell_type": "code",
   "execution_count": 31,
   "id": "21a906ac",
   "metadata": {},
   "outputs": [
    {
     "name": "stdout",
     "output_type": "stream",
     "text": [
      "['one', 'two', 'three', 'four']\n"
     ]
    }
   ],
   "source": [
    "a=[\"one\",\"two\",\"three\"]\n",
    "b=[\"four\"]\n",
    "(a.extend(b))\n",
    "print(a)"
   ]
  },
  {
   "cell_type": "code",
   "execution_count": 36,
   "id": "dd5e22f8",
   "metadata": {},
   "outputs": [
    {
     "name": "stdout",
     "output_type": "stream",
     "text": [
      "(1, 2, 3, 4)\n",
      "1\n",
      "1\n"
     ]
    }
   ],
   "source": [
    "#tuple\n",
    "a=(1,2,3,4)\n",
    "b=a\n",
    "print(b)\n",
    "print(min(a))\n",
    "print(a.index(2))"
   ]
  }
 ],
 "metadata": {
  "kernelspec": {
   "display_name": "Python 3 (ipykernel)",
   "language": "python",
   "name": "python3"
  },
  "language_info": {
   "codemirror_mode": {
    "name": "ipython",
    "version": 3
   },
   "file_extension": ".py",
   "mimetype": "text/x-python",
   "name": "python",
   "nbconvert_exporter": "python",
   "pygments_lexer": "ipython3",
   "version": "3.9.13"
  }
 },
 "nbformat": 4,
 "nbformat_minor": 5
}
